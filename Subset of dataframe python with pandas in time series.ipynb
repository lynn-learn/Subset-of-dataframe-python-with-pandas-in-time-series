{
 "cells": [
  {
   "cell_type": "code",
   "execution_count": 2,
   "metadata": {},
   "outputs": [
    {
     "name": "stdout",
     "output_type": "stream",
     "text": [
      "           Date        Open        High         Low       Close       Volume  \\\n",
      "0    2020-09-29  354.970000  360.790000  351.820000  359.960000  10286529445   \n",
      "1    2020-09-28  357.310000  366.890000  354.830000  354.950000  12102509266   \n",
      "2    2020-09-27  354.590000  362.050000  349.090000  357.320000  11464393949   \n",
      "3    2020-09-26  352.530000  355.960000  348.130000  354.970000  11036752997   \n",
      "4    2020-09-25  349.360000  357.960000  339.350000  352.160000  12254269350   \n",
      "...         ...         ...         ...         ...         ...          ...   \n",
      "1876 2015-08-11    0.708087    1.130000    0.663235    1.070000      1463100   \n",
      "1877 2015-08-10    0.713989    0.729854    0.636546    0.708448       405283   \n",
      "1878 2015-08-09    0.706136    0.879810    0.629191    0.701897       532170   \n",
      "1879 2015-08-08    2.790000    2.800000    0.714725    0.753325       674188   \n",
      "1880 2015-08-07    2.830000    3.540000    2.520000    2.770000       164329   \n",
      "\n",
      "        MarketCap  \n",
      "0     40606618322  \n",
      "1     40036419309  \n",
      "2     40299122534  \n",
      "3     40028658786  \n",
      "4     39707796831  \n",
      "...           ...  \n",
      "1876     64569288  \n",
      "1877     42818364  \n",
      "1878     42399573  \n",
      "1879     45486894  \n",
      "1880    166610555  \n",
      "\n",
      "[1881 rows x 7 columns]\n"
     ]
    }
   ],
   "source": [
    "import os\n",
    "import pandas as pd\n",
    "coin_dataframes = {}\n",
    "df = pd.read_csv(os.path.join(\"input/\", 'ethereum_price.csv'), parse_dates=[\"Date\"])\n",
    "print(df)"
   ]
  },
  {
   "cell_type": "code",
   "execution_count": 3,
   "metadata": {},
   "outputs": [
    {
     "name": "stdout",
     "output_type": "stream",
     "text": [
      "           Date        Open\n",
      "1880 2015-08-07    2.830000\n",
      "1879 2015-08-08    2.790000\n",
      "1878 2015-08-09    0.706136\n",
      "1877 2015-08-10    0.713989\n",
      "1876 2015-08-11    0.708087\n",
      "...         ...         ...\n",
      "4    2020-09-25  349.360000\n",
      "3    2020-09-26  352.530000\n",
      "2    2020-09-27  354.590000\n",
      "1    2020-09-28  357.310000\n",
      "0    2020-09-29  354.970000\n",
      "\n",
      "[1881 rows x 2 columns]\n"
     ]
    }
   ],
   "source": [
    "df = df[[\"Date\", \"Open\"]]\n",
    "coin_dataframes['ethereum_price'] = df.sort_values('Date');\n",
    "print(coin_dataframes['ethereum_price'])"
   ]
  },
  {
   "cell_type": "code",
   "execution_count": null,
   "metadata": {},
   "outputs": [],
   "source": []
  }
 ],
 "metadata": {
  "kernelspec": {
   "display_name": "Python 3",
   "language": "python",
   "name": "python3"
  },
  "language_info": {
   "codemirror_mode": {
    "name": "ipython",
    "version": 3
   },
   "file_extension": ".py",
   "mimetype": "text/x-python",
   "name": "python",
   "nbconvert_exporter": "python",
   "pygments_lexer": "ipython3",
   "version": "3.7.7"
  }
 },
 "nbformat": 4,
 "nbformat_minor": 4
}
